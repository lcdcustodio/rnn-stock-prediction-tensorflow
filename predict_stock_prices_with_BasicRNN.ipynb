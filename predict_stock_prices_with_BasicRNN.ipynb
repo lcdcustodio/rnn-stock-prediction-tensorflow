{
  "nbformat": 4,
  "nbformat_minor": 0,
  "metadata": {
    "colab": {
      "name": "predict stock prices with BasicRNN.ipynb",
      "provenance": [],
      "collapsed_sections": []
    },
    "kernelspec": {
      "name": "python3",
      "display_name": "Python 3"
    }
  },
  "cells": [
    {
      "cell_type": "code",
      "metadata": {
        "id": "kJrF5GhzK-7u",
        "colab_type": "code",
        "outputId": "f2b4ec9a-08f1-4a16-fed0-067330c84954",
        "colab": {
          "base_uri": "https://localhost:8080/",
          "height": 286
        }
      },
      "source": [
        "import pandas as pd\n",
        "import matplotlib.pyplot as plt\n",
        "#%matplotlib inline\n",
        "\n",
        "#data = pd.read_csv(\"petr4.csv\")\n",
        "data = pd.read_csv(\"PETR4.SA.csv\")\n",
        "data = data.dropna()\n",
        "data = data.iloc[:,1].values\n",
        "plt.plot(data)"
      ],
      "execution_count": 2,
      "outputs": [
        {
          "output_type": "execute_result",
          "data": {
            "text/plain": [
              "[<matplotlib.lines.Line2D at 0x7f8fb8422ef0>]"
            ]
          },
          "metadata": {
            "tags": []
          },
          "execution_count": 2
        },
        {
          "output_type": "display_data",
          "data": {
            "image/png": "[encoded data removed]",
            "text/plain": [
              "<Figure size 432x288 with 1 Axes>"
            ]
          },
          "metadata": {
            "tags": []
          }
        }
      ]
    },
    {
      "cell_type": "code",
      "metadata": {
        "id": "w-pvB81wEnqO",
        "colab_type": "code",
        "outputId": "5f0dc8c2-129f-4fc4-c21a-b0f6d7495298",
        "colab": {
          "base_uri": "https://localhost:8080/",
          "height": 34
        }
      },
      "source": [
        "len(data)\n",
        "data[-1]"
      ],
      "execution_count": 3,
      "outputs": [
        {
          "output_type": "execute_result",
          "data": {
            "text/plain": [
              "27.99"
            ]
          },
          "metadata": {
            "tags": []
          },
          "execution_count": 3
        }
      ]
    },
    {
      "cell_type": "code",
      "metadata": {
        "id": "imWXjzTvLs0T",
        "colab_type": "code",
        "colab": {}
      },
      "source": [
        "periods = 30 # days"
      ],
      "execution_count": 0,
      "outputs": []
    },
    {
      "cell_type": "code",
      "metadata": {
        "id": "nc7AaLdWLw3C",
        "colab_type": "code",
        "colab": {}
      },
      "source": [
        "# separate the records from stock prices excluding the latest 30 days (test data)\n",
        "train_x = data[0:(len(data) - (len(data) % periods))]\n",
        "\n",
        "train_x_batches = train_x.reshape(-1, periods, 1)  \n",
        "# Uses 1 because it's only one independent feature\n",
        "# created 41 batches with 30 records with 1 feature\n",
        "\n",
        "# Using stock price for the \"next day\" of each 30 days batch as the dependent variable.\n",
        "train_y = data[1:(len(data) - (len(data) % periods)) + 1] # increment 1 to get the \"next day\"\n",
        "train_y_batches = train_y.reshape(-1, periods, 1)\n",
        "\n",
        "print('train_x shape: ', train_x.shape)\n",
        "print('train_y shape: ', train_y.shape)\n",
        "\n",
        "print('train_x_batches shape: ', train_x_batches.shape)\n",
        "print('train_y_batches shape: ', train_y_batches.shape)"
      ],
      "execution_count": 0,
      "outputs": []
    },
    {
      "cell_type": "code",
      "metadata": {
        "id": "cyF5GCzjLxCK",
        "colab_type": "code",
        "outputId": "7f166555-6ad5-498d-e70a-3b2d43a72d64",
        "colab": {
          "base_uri": "https://localhost:8080/",
          "height": 51
        }
      },
      "source": [
        "test_x = data[-(periods + 1):]\n",
        "test_x = test_x[:periods]\n",
        "test_x = test_x.reshape(-1, periods, 1)\n",
        "print('test_x shape: ', test_x.shape)\n",
        "\n",
        "test_y = data[-(periods):]\n",
        "test_y = test_y.reshape(-1, periods, 1)\n",
        "print('test_y shape: ', test_y.shape)"
      ],
      "execution_count": 6,
      "outputs": [
        {
          "output_type": "stream",
          "text": [
            "test_x shape:  (1, 30, 1)\n",
            "test_y shape:  (1, 30, 1)\n"
          ],
          "name": "stdout"
        }
      ]
    },
    {
      "cell_type": "code",
      "metadata": {
        "id": "bVgtPGvaLxHD",
        "colab_type": "code",
        "colab": {}
      },
      "source": [
        "import tensorflow as tf\n",
        "tf.reset_default_graph() # memory clean"
      ],
      "execution_count": 0,
      "outputs": []
    },
    {
      "cell_type": "code",
      "metadata": {
        "id": "C_EdNuhxL8rZ",
        "colab_type": "code",
        "colab": {
          "base_uri": "https://localhost:8080/",
          "height": 547
        },
        "outputId": "3353896f-4b19-46e2-bc7d-e5de92e0f173"
      },
      "source": [
        "neurons_input = 1 # it's just one independent variable (feature)\n",
        "neurons_hidden = 100\n",
        "neurons_output = 1 # it's just one dependent variable\n",
        "\n",
        "xph = tf.placeholder(tf.float32, [None, periods, neurons_input])\n",
        "yph = tf.placeholder(tf.float32, [None, periods, neurons_output])\n",
        "\n",
        "cell = tf.contrib.rnn.BasicRNNCell(num_units = neurons_hidden, activation = tf.nn.relu)\n",
        "\n",
        "cell_output = tf.contrib.rnn.OutputProjectionWrapper(cell, output_size=1) # Dense Neural Network\n",
        "\n",
        "rnn_output, _ = tf.nn.dynamic_rnn(cell_output, xph, dtype=tf.float32)\n",
        "\n",
        "error = tf.losses.mean_squared_error(labels=yph, predictions=rnn_output)\n",
        "\n",
        "optimizer = tf.train.AdamOptimizer(learning_rate=0.001)\n",
        "\n",
        "train = optimizer.minimize(error)"
      ],
      "execution_count": 8,
      "outputs": [
        {
          "output_type": "stream",
          "text": [
            "WARNING:tensorflow:\n",
            "The TensorFlow contrib module will not be included in TensorFlow 2.0.\n",
            "For more information, please see:\n",
            "  * https://github.com/tensorflow/community/blob/master/rfcs/20180907-contrib-sunset.md\n",
            "  * https://github.com/tensorflow/addons\n",
            "  * https://github.com/tensorflow/io (for I/O related ops)\n",
            "If you depend on functionality not listed there, please file an issue.\n",
            "\n",
            "WARNING:tensorflow:From <ipython-input-8-6d3d0cda8de8>:8: BasicRNNCell.__init__ (from tensorflow.python.ops.rnn_cell_impl) is deprecated and will be removed in a future version.\n",
            "Instructions for updating:\n",
            "This class is equivalent as tf.keras.layers.SimpleRNNCell, and will be replaced by that in Tensorflow 2.0.\n",
            "WARNING:tensorflow:From <ipython-input-8-6d3d0cda8de8>:12: dynamic_rnn (from tensorflow.python.ops.rnn) is deprecated and will be removed in a future version.\n",
            "Instructions for updating:\n",
            "Please use `keras.layers.RNN(cell)`, which is equivalent to this API\n",
            "WARNING:tensorflow:Entity <bound method OutputProjectionWrapper.call of <tensorflow.contrib.rnn.python.ops.core_rnn_cell.OutputProjectionWrapper object at 0x7f8f965f6f28>> could not be transformed and will be executed as-is. Please report this to the AutgoGraph team. When filing the bug, set the verbosity to 10 (on Linux, `export AUTOGRAPH_VERBOSITY=10`) and attach the full output. Cause: converting <bound method OutputProjectionWrapper.call of <tensorflow.contrib.rnn.python.ops.core_rnn_cell.OutputProjectionWrapper object at 0x7f8f965f6f28>>: AssertionError: Bad argument number for Name: 3, expecting 4\n",
            "WARNING: Entity <bound method OutputProjectionWrapper.call of <tensorflow.contrib.rnn.python.ops.core_rnn_cell.OutputProjectionWrapper object at 0x7f8f965f6f28>> could not be transformed and will be executed as-is. Please report this to the AutgoGraph team. When filing the bug, set the verbosity to 10 (on Linux, `export AUTOGRAPH_VERBOSITY=10`) and attach the full output. Cause: converting <bound method OutputProjectionWrapper.call of <tensorflow.contrib.rnn.python.ops.core_rnn_cell.OutputProjectionWrapper object at 0x7f8f965f6f28>>: AssertionError: Bad argument number for Name: 3, expecting 4\n",
            "WARNING:tensorflow:From /usr/local/lib/python3.6/dist-packages/tensorflow/python/ops/init_ops.py:1251: calling VarianceScaling.__init__ (from tensorflow.python.ops.init_ops) with dtype is deprecated and will be removed in a future version.\n",
            "Instructions for updating:\n",
            "Call initializer instance with the dtype argument instead of passing it to the constructor\n",
            "WARNING:tensorflow:From /usr/local/lib/python3.6/dist-packages/tensorflow/python/ops/rnn_cell_impl.py:459: calling Zeros.__init__ (from tensorflow.python.ops.init_ops) with dtype is deprecated and will be removed in a future version.\n",
            "Instructions for updating:\n",
            "Call initializer instance with the dtype argument instead of passing it to the constructor\n",
            "WARNING:tensorflow:Entity <bound method BasicRNNCell.call of <tensorflow.python.ops.rnn_cell_impl.BasicRNNCell object at 0x7f8fa0070c50>> could not be transformed and will be executed as-is. Please report this to the AutgoGraph team. When filing the bug, set the verbosity to 10 (on Linux, `export AUTOGRAPH_VERBOSITY=10`) and attach the full output. Cause: converting <bound method BasicRNNCell.call of <tensorflow.python.ops.rnn_cell_impl.BasicRNNCell object at 0x7f8fa0070c50>>: AssertionError: Bad argument number for Name: 3, expecting 4\n",
            "WARNING: Entity <bound method BasicRNNCell.call of <tensorflow.python.ops.rnn_cell_impl.BasicRNNCell object at 0x7f8fa0070c50>> could not be transformed and will be executed as-is. Please report this to the AutgoGraph team. When filing the bug, set the verbosity to 10 (on Linux, `export AUTOGRAPH_VERBOSITY=10`) and attach the full output. Cause: converting <bound method BasicRNNCell.call of <tensorflow.python.ops.rnn_cell_impl.BasicRNNCell object at 0x7f8fa0070c50>>: AssertionError: Bad argument number for Name: 3, expecting 4\n",
            "WARNING:tensorflow:From /usr/local/lib/python3.6/dist-packages/tensorflow/contrib/rnn/python/ops/core_rnn_cell.py:104: calling Constant.__init__ (from tensorflow.python.ops.init_ops) with dtype is deprecated and will be removed in a future version.\n",
            "Instructions for updating:\n",
            "Call initializer instance with the dtype argument instead of passing it to the constructor\n",
            "WARNING:tensorflow:From /usr/local/lib/python3.6/dist-packages/tensorflow/python/ops/losses/losses_impl.py:121: add_dispatch_support.<locals>.wrapper (from tensorflow.python.ops.array_ops) is deprecated and will be removed in a future version.\n",
            "Instructions for updating:\n",
            "Use tf.where in 2.0, which has the same broadcast rule as np.where\n"
          ],
          "name": "stdout"
        }
      ]
    },
    {
      "cell_type": "code",
      "metadata": {
        "id": "tI0Na_2NL87C",
        "colab_type": "code",
        "outputId": "698c067e-d6a2-4916-8f13-9073c222c159",
        "colab": {
          "base_uri": "https://localhost:8080/",
          "height": 187
        }
      },
      "source": [
        "with tf.Session() as s:\n",
        "    s.run(tf.global_variables_initializer())\n",
        "    \n",
        "    for epoch in range(1000):\n",
        "        _, cost = s.run([train, error], feed_dict = { xph: train_x_batches, yph: train_y_batches })\n",
        "        if epoch % 100 == 0:\n",
        "            print('Epoch: ', epoch + 1, ' - Cost error: ', cost)\n",
        "            \n",
        "    \n",
        "    predictions = s.run(rnn_output, feed_dict = { xph: test_x })\n",
        "    #predict_2 = s.run(rnn_output, feed_dict = { xph: [27.72] })"
      ],
      "execution_count": 9,
      "outputs": [
        {
          "output_type": "stream",
          "text": [
            "Epoch:  1  - Cost error:  250.24936\n",
            "Epoch:  101  - Cost error:  2.9109569\n",
            "Epoch:  201  - Cost error:  0.61957246\n",
            "Epoch:  301  - Cost error:  0.30159092\n",
            "Epoch:  401  - Cost error:  0.28584045\n",
            "Epoch:  501  - Cost error:  0.2797279\n",
            "Epoch:  601  - Cost error:  0.274238\n",
            "Epoch:  701  - Cost error:  0.2692624\n",
            "Epoch:  801  - Cost error:  0.26448792\n",
            "Epoch:  901  - Cost error:  0.25940007\n"
          ],
          "name": "stdout"
        }
      ]
    },
    {
      "cell_type": "code",
      "metadata": {
        "id": "gbNdar3UMJka",
        "colab_type": "code",
        "colab": {}
      },
      "source": [
        "import numpy as np\n",
        "check_y = np.ravel(test_y) # reduction (1,30,1) to (30,)\n",
        "check_predictions = np.ravel(predictions)"
      ],
      "execution_count": 0,
      "outputs": []
    },
    {
      "cell_type": "code",
      "metadata": {
        "id": "n2A9PE4tMPaI",
        "colab_type": "code",
        "outputId": "c9e66865-6e70-4d27-a23f-ddbd71c32ebd",
        "colab": {
          "base_uri": "https://localhost:8080/",
          "height": 34
        }
      },
      "source": [
        "from sklearn.metrics import mean_absolute_error\n",
        "mae = mean_absolute_error(check_y, check_predictions)\n",
        "mae\n",
        "# we got an error of just 16 cents ($0.16) into prices"
      ],
      "execution_count": 11,
      "outputs": [
        {
          "output_type": "execute_result",
          "data": {
            "text/plain": [
              "0.2763881945841469"
            ]
          },
          "metadata": {
            "tags": []
          },
          "execution_count": 11
        }
      ]
    },
    {
      "cell_type": "code",
      "metadata": {
        "id": "ftFnis8TMUkZ",
        "colab_type": "code",
        "outputId": "4b3b8795-c499-4517-ef56-669c1dfb438e",
        "colab": {
          "base_uri": "https://localhost:8080/",
          "height": 286
        }
      },
      "source": [
        "plt.plot(check_y, '*', markersize=10, label = 'Real value')\n",
        "plt.plot(check_predictions, 'o', markersize=10, label = 'Predictions')\n",
        "plt.legend()\n",
        "\n",
        "plt.plot(check_y, label = 'Real value')\n",
        "plt.plot(check_predictions, label = 'Predictions')\n",
        "plt.legend()"
      ],
      "execution_count": 12,
      "outputs": [
        {
          "output_type": "execute_result",
          "data": {
            "text/plain": [
              "<matplotlib.legend.Legend at 0x7f8f8f518d30>"
            ]
          },
          "metadata": {
            "tags": []
          },
          "execution_count": 12
        },
        {
          "output_type": "display_data",
          "data": {
            "image/png": "[encoded data removed]",
            "text/plain": [
              "<Figure size 432x288 with 1 Axes>"
            ]
          },
          "metadata": {
            "tags": []
          }
        }
      ]
    },
    {
      "cell_type": "code",
      "metadata": {
        "id": "n9p8KGxi-AMA",
        "colab_type": "code",
        "outputId": "80d77674-d499-44ec-8b6c-8ab3047239ca",
        "colab": {
          "base_uri": "https://localhost:8080/",
          "height": 34
        }
      },
      "source": [
        "check_y[-1]"
      ],
      "execution_count": 13,
      "outputs": [
        {
          "output_type": "execute_result",
          "data": {
            "text/plain": [
              "27.99"
            ]
          },
          "metadata": {
            "tags": []
          },
          "execution_count": 13
        }
      ]
    },
    {
      "cell_type": "code",
      "metadata": {
        "id": "SfGQbveA-gM4",
        "colab_type": "code",
        "outputId": "6c4c35d4-a692-429f-cb37-18286f2decc7",
        "colab": {
          "base_uri": "https://localhost:8080/",
          "height": 34
        }
      },
      "source": [
        "check_predictions[-1]"
      ],
      "execution_count": 14,
      "outputs": [
        {
          "output_type": "execute_result",
          "data": {
            "text/plain": [
              "28.335396"
            ]
          },
          "metadata": {
            "tags": []
          },
          "execution_count": 14
        }
      ]
    }
  ]
}